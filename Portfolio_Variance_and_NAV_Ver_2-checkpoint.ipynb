{
 "cells": [
  {
   "cell_type": "markdown",
   "metadata": {},
   "source": [
    "<b>Portfolio Variance</b>"
   ]
  },
  {
   "cell_type": "code",
   "execution_count": 1,
   "metadata": {},
   "outputs": [],
   "source": [
    "import pandas as pd\n",
    "import pandas_datareader.data as pdr    #Import Libraries\n",
    "import datetime as dt"
   ]
  },
  {
   "cell_type": "code",
   "execution_count": 2,
   "metadata": {},
   "outputs": [],
   "source": [
    "portfolio = {'CONCOR.NS':0.23,'NESTLEIND.NS':0.21,'ASIANPAINT.NS':0.17,'HDFCBANK.NS':0.19,'INFY.NS':0.20}"
   ]
  },
  {
   "cell_type": "code",
   "execution_count": 3,
   "metadata": {},
   "outputs": [],
   "source": [
    "start_date = dt.datetime.today() - dt.timedelta(735)           # Specify the start and end date\n",
    "end_date = dt.datetime.today()"
   ]
  },
  {
   "cell_type": "code",
   "execution_count": 4,
   "metadata": {},
   "outputs": [],
   "source": [
    "def stock_portfolio(portfolio,start_date,end_date):\n",
    "    \n",
    "    ticker = list(portfolio.keys())\n",
    "    Wt_Stocks = list(portfolio.values())\n",
    "    data = pdr.get_data_yahoo(ticker,start_date,end_date)      # Get data from Yahoo Finance API\n",
    "    df_close = data['Adj Close']                               # Extract adjusted close data from whole price data\n",
    "    df_ret = df_close.pct_change(1).round(4)                   # Find the daily return\n",
    "    avg_ret = df_ret.iloc[1:df_ret.size].mean().round(4)       # Find the average return over the period\n",
    "    X = df_ret - avg_ret\n",
    "    X = X.iloc[1:X.size]                                       #Excess Return Matrix (Excluding NaN value at the top)\n",
    "    X_n = X.reset_index()                                      # To remove date as datetime index\n",
    "    X_n.drop(columns = 'Date',inplace = True)\n",
    "    X_nT = X_n.loc[0:X_n.size,ticker[0]:ticker[-1]].T          # Transpose of matrix X\n",
    "    XTX = X_nT.dot(X_n)                                        # Transpose(X) * (X)\n",
    "    n = len(X_n.axes[0])                                       # Find the number of data points\n",
    "    var_cov_mtx = (XTX/n).round(5)                             # Find the variance covariance matrix\n",
    "\n",
    "    S_Dev = df_ret.std().round(5)                              # Find the standard deviation of each stock\n",
    "    S_D = pd.DataFrame(S_Dev)\n",
    "\n",
    "    S_DT = S_D.T                                               # Find the transpose of S.D\n",
    "    Pro_SD = S_D.dot(S_DT).round(5)                            # Dins SD * SDT\n",
    "    corr_mtx = (var_cov_mtx.div(Pro_SD)).round(5)              # var_cov_mtx * Pro_SD\n",
    "\n",
    "    Wt_Stocks_df = pd.DataFrame(Wt_Stocks)                     # Convert the weight of each stock into a dataframe\n",
    "    Wt_Stocks_df = Wt_Stocks_df.set_index(S_D.index)           # Set the index same as all others\n",
    "    Wt_SD = (S_Dev * Wt_Stocks).round(5)                       # Find the weighted standard deviation of stocks\n",
    "    Wt_SD_df = pd.DataFrame(Wt_SD)\n",
    "    M1 = Wt_SD_df.T.dot(corr_mtx)                              # Transpose(Wt_SD) * Corr_mtx\n",
    "    M2 = M1.dot(Wt_SD_df)                                      # M1 * Wt_SD\n",
    "    Port_Var = M2[0].apply('sqrt')                             # Sqrt(M2) = Portfolio Variance or Portfolio S.D\n",
    "    Port_Var = (Port_Var*100).round(3)\n",
    "\n",
    "    Annual_Port_SD = (Port_Var*(252**(1/2))).round(2)         # Annual portfolio standard deviation\n",
    "    Wt_port_ret = Wt_Stocks_df.T.mul(100)                     # Convert stock weights into percentages\n",
    "    port_dret = pd.concat([Wt_port_ret,df_ret[1:]], ignore_index = True)    # Concatenate previous dataframe to weighted stocks dataframe\n",
    "\n",
    "    for i in range(1,len(port_dret.index)):\n",
    "        port_dret.iloc[i] = port_dret.iloc[i-1]*(1+port_dret.iloc[i])       # Portfolio's daily returns\n",
    "\n",
    "    port_dret['NAV'] = port_dret.sum(axis = 1)                # Returns in terms of NAV\n",
    "    port_dret = port_dret.set_index(df_ret.index)             # Set the date index\n",
    "    per_stock_ret_year =  avg_ret.mul(252)                    # Per stock annual return\n",
    "    per_stock_ret_year = pd.DataFrame(per_stock_ret_year)\n",
    "\n",
    "    \n",
    "    #Output\n",
    "    Expected_portfolio_pct_ret = (Wt_Stocks_df.mul(per_stock_ret_year).sum()*100).round(2)   #Expected portfolio return in percent\n",
    "    NAV_today = port_dret.iloc[-1, -1].round(2)               # NAV as of today        \n",
    "    NAV = port_dret['NAV']                                    # Plot NAV (Net asset value of portfolio)\n",
    "    %matplotlib inline   \n",
    "    NAV.plot()    \n",
    "    return Expected_portfolio_pct_ret.tolist(), Annual_Port_SD.tolist(), NAV_today.tolist()"
   ]
  },
  {
   "cell_type": "code",
   "execution_count": 5,
   "metadata": {},
   "outputs": [
    {
     "data": {
      "image/png": "[encoded data removed]",
      "text/plain": [
       "<Figure size 432x288 with 1 Axes>"
      ]
     },
     "metadata": {
      "needs_background": "light"
     },
     "output_type": "display_data"
    }
   ],
   "source": [
    "Expected_portfolio_return, Annual_portfolio_stdev, NAV_live = stock_portfolio(portfolio,start_date,end_date)"
   ]
  },
  {
   "cell_type": "code",
   "execution_count": 6,
   "metadata": {},
   "outputs": [
    {
     "data": {
      "text/plain": [
       "([14.52], [22.11], 127.89)"
      ]
     },
     "execution_count": 6,
     "metadata": {},
     "output_type": "execute_result"
    }
   ],
   "source": [
    "Expected_portfolio_return, Annual_portfolio_stdev, NAV_live"
   ]
  },
  {
   "cell_type": "code",
   "execution_count": null,
   "metadata": {},
   "outputs": [],
   "source": []
  }
 ],
 "metadata": {
  "kernelspec": {
   "display_name": "Python 3",
   "language": "python",
   "name": "python3"
  },
  "language_info": {
   "codemirror_mode": {
    "name": "ipython",
    "version": 3
   },
   "file_extension": ".py",
   "mimetype": "text/x-python",
   "name": "python",
   "nbconvert_exporter": "python",
   "pygments_lexer": "ipython3",
   "version": "3.7.4"
  }
 },
 "nbformat": 4,
 "nbformat_minor": 2
}
